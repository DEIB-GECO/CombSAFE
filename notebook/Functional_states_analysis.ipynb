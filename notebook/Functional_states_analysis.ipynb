{
 "cells": [
  {
   "cell_type": "markdown",
   "id": "e7966eae",
   "metadata": {},
   "source": [
    "## Load CombSafe and input dataset"
   ]
  },
  {
   "cell_type": "code",
   "execution_count": null,
   "id": "cd818eb0",
   "metadata": {},
   "outputs": [],
   "source": [
    "from CombSAFE import *"
   ]
  },
  {
   "cell_type": "code",
   "execution_count": null,
   "id": "43ecf2ab",
   "metadata": {},
   "outputs": [],
   "source": [
    "dataset = import_path(path = \"./input_dataset/\")"
   ]
  },
  {
   "cell_type": "markdown",
   "id": "6ddb85d7",
   "metadata": {},
   "source": [
    "## Generation of semantic annotations"
   ]
  },
  {
   "cell_type": "code",
   "execution_count": null,
   "id": "a7a921f1",
   "metadata": {},
   "outputs": [],
   "source": [
    "semantic_df = generate_semantic_annotations(dataset, sep =\"\\t\", encode_convert=False)"
   ]
  },
  {
   "cell_type": "code",
   "execution_count": null,
   "id": "a7aaa8d8",
   "metadata": {},
   "outputs": [],
   "source": [
    "#semantic_df = load_semantic_dataframe(dataset, sep = \"\\t\")"
   ]
  },
  {
   "cell_type": "markdown",
   "id": "4f1f47df",
   "metadata": {},
   "source": [
    "## Data Analysis "
   ]
  },
  {
   "cell_type": "code",
   "execution_count": null,
   "id": "ea316c68",
   "metadata": {},
   "outputs": [],
   "source": [
    "plot_factor_freq(semantic_df, 30)"
   ]
  },
  {
   "cell_type": "code",
   "execution_count": null,
   "id": "65ceb45e",
   "metadata": {},
   "outputs": [],
   "source": [
    "generate_fixed_factor_pool(semantic_df, [\"CTCF\", \"POLR2A\", \"MYC\"], 5)"
   ]
  },
  {
   "cell_type": "code",
   "execution_count": null,
   "id": "479b207a",
   "metadata": {},
   "outputs": [],
   "source": [
    "get_semantic_annotation_list(semantic_df, [\"H3K4me3\", \"H3K27me3\", \"POLR2A\", \"CTCF\", \"MYC\"])"
   ]
  },
  {
   "cell_type": "markdown",
   "id": "d20b849f",
   "metadata": {},
   "source": [
    "## Select features and combine samples"
   ]
  },
  {
   "cell_type": "code",
   "execution_count": null,
   "id": "113d6a51",
   "metadata": {},
   "outputs": [],
   "source": [
    "pool = [\"H3K4me3\", \"H3K27me3\", \"POLR2A\", \"CTCF\", \"MYC\"]"
   ]
  },
  {
   "cell_type": "code",
   "execution_count": null,
   "id": "414ee2f0",
   "metadata": {},
   "outputs": [],
   "source": [
    "extract_data(dataset, pool)"
   ]
  },
  {
   "cell_type": "markdown",
   "id": "3d8c8832",
   "metadata": {},
   "source": [
    "## [Optional] Add custom tracks"
   ]
  },
  {
   "cell_type": "code",
   "execution_count": null,
   "id": "51a639e6",
   "metadata": {},
   "outputs": [],
   "source": [
    "download_custom_tracks(\"http://hgdownload.cse.ucsc.edu/goldenpath/hg38/database/cpgIslandExt.txt.gz\")"
   ]
  },
  {
   "cell_type": "code",
   "execution_count": null,
   "id": "3e4c834d",
   "metadata": {},
   "outputs": [],
   "source": [
    "add_custom_tracks(\"./CombSAFE_output/downloaded_files/cpgIslandExt_test.txt\", 1)"
   ]
  },
  {
   "cell_type": "markdown",
   "id": "02d37d8d",
   "metadata": {},
   "source": [
    "## Identify Chromatin States"
   ]
  },
  {
   "cell_type": "code",
   "execution_count": null,
   "id": "7a7b30dc",
   "metadata": {},
   "outputs": [],
   "source": [
    "identify_functional_states(chromhmm_path =\"./ChromHMM/\", number_of_states = 20, n_core = 20)"
   ]
  },
  {
   "cell_type": "code",
   "execution_count": null,
   "id": "8eeab7c4",
   "metadata": {},
   "outputs": [],
   "source": [
    "palette = ['#c9f9ff', '#e6beff', '#e6194b', '#3cb44b', '#ffe119', '#4363d8', '#f58231','#911eb4', '#bcf60c', '#f032e6', '#fffac8', '#fabebe', '#9a6324', '#46f0f0', '#008080']"
   ]
  },
  {
   "cell_type": "code",
   "execution_count": null,
   "id": "d4a73ee6",
   "metadata": {},
   "outputs": [],
   "source": [
    "show_emission_graph(custom_palette=palette)"
   ]
  },
  {
   "cell_type": "markdown",
   "id": "de1c205d",
   "metadata": {},
   "source": [
    "## Single Gene Analysis "
   ]
  },
  {
   "cell_type": "code",
   "execution_count": null,
   "id": "c5c58bd9",
   "metadata": {},
   "outputs": [],
   "source": [
    "full_df = load_states_dataframe()"
   ]
  },
  {
   "cell_type": "code",
   "execution_count": null,
   "id": "886fceea",
   "metadata": {
    "scrolled": true
   },
   "outputs": [],
   "source": [
    "single_gene_analysis(full_df, \"./gene_list/test_list.txt\")"
   ]
  },
  {
   "cell_type": "markdown",
   "id": "82790ba2",
   "metadata": {},
   "source": [
    "## Genome-wide Analysis "
   ]
  },
  {
   "cell_type": "code",
   "execution_count": null,
   "id": "65f489ce",
   "metadata": {},
   "outputs": [],
   "source": [
    "reducted_df = genome_reduction(full_df)"
   ]
  },
  {
   "cell_type": "code",
   "execution_count": null,
   "id": "29585550",
   "metadata": {},
   "outputs": [],
   "source": [
    "#reducted_df = load_reducted_df()"
   ]
  },
  {
   "cell_type": "code",
   "execution_count": null,
   "id": "8f88485e",
   "metadata": {},
   "outputs": [],
   "source": [
    "show_emission_graph_with_coverage(reducted_df, custom_palette=palette)"
   ]
  },
  {
   "cell_type": "code",
   "execution_count": null,
   "id": "a5860540",
   "metadata": {},
   "outputs": [],
   "source": [
    "clustered_heatmap = data_driven_heatmap(reducted_df)"
   ]
  },
  {
   "cell_type": "code",
   "execution_count": null,
   "id": "6f18041e",
   "metadata": {},
   "outputs": [],
   "source": [
    "gene_ontology_enrichment_analysis(clustered_heatmap, reducted_df, sig_cut_off= 0.05)"
   ]
  },
  {
   "cell_type": "code",
   "execution_count": null,
   "id": "232babb9",
   "metadata": {},
   "outputs": [],
   "source": []
  }
 ],
 "metadata": {
  "kernelspec": {
   "display_name": "Python 3",
   "language": "python",
   "name": "python3"
  },
  "language_info": {
   "codemirror_mode": {
    "name": "ipython",
    "version": 3
   },
   "file_extension": ".py",
   "mimetype": "text/x-python",
   "name": "python",
   "nbconvert_exporter": "python",
   "pygments_lexer": "ipython3",
   "version": "3.9.5"
  }
 },
 "nbformat": 4,
 "nbformat_minor": 5
}
