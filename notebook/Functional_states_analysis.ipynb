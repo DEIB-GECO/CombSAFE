{
 "cells": [
  {
   "cell_type": "markdown",
   "id": "e7966eae",
   "metadata": {},
   "source": [
    "## Load CombSAFE and input dataset"
   ]
  },
  {
   "cell_type": "code",
   "execution_count": null,
   "id": "f7e0a168",
   "metadata": {},
   "outputs": [],
   "source": [
    "from CombSAFE import *"
   ]
  },
  {
   "cell_type": "markdown",
   "id": "5c2c6d82",
   "metadata": {},
   "source": [
    "## Create dataset"
   ]
  },
  {
   "cell_type": "code",
   "execution_count": null,
   "id": "982305f8",
   "metadata": {},
   "outputs": [],
   "source": [
    "#dataset = create_dataset(\"./examples/GEO/samples_list.txt\", \"hg38\", 20, from_GEO=True)"
   ]
  },
  {
   "cell_type": "code",
   "execution_count": null,
   "id": "b8acf426",
   "metadata": {},
   "outputs": [],
   "source": [
    "#dataset = create_dataset(\"./processed_data/fastq_test/fastq_list.txt/\", \"hg38\", 4, from_GEO=False)"
   ]
  },
  {
   "cell_type": "markdown",
   "id": "1239729b",
   "metadata": {},
   "source": [
    "## Load dataset"
   ]
  },
  {
   "cell_type": "code",
   "execution_count": null,
   "id": "33199a50",
   "metadata": {},
   "outputs": [],
   "source": [
    "dataset = load_dataset(path = \"./dataset/\", assembly=\"hg38\", from_GEO=True)"
   ]
  },
  {
   "cell_type": "markdown",
   "id": "6ddb85d7",
   "metadata": {},
   "source": [
    "## Generation of semantic annotations"
   ]
  },
  {
   "cell_type": "code",
   "execution_count": null,
   "id": "c10f298b",
   "metadata": {},
   "outputs": [],
   "source": [
    "ontology_1 = \"https://raw.githubusercontent.com/obophenotype/cell-ontology/master/cl-basic.obo\""
   ]
  },
  {
   "cell_type": "code",
   "execution_count": null,
   "id": "d0cd7f58",
   "metadata": {},
   "outputs": [],
   "source": [
    "ontology_2 = \"https://raw.githubusercontent.com/DiseaseOntology/HumanDiseaseOntology/main/src/ontology/doid.obo\""
   ]
  },
  {
   "cell_type": "code",
   "execution_count": null,
   "id": "a7a921f1",
   "metadata": {},
   "outputs": [],
   "source": [
    "semantic_df = generate_semantic_annotations(dataset, ontology_1, ontology_2, disease = True, encode_convert=False)"
   ]
  },
  {
   "cell_type": "markdown",
   "id": "4f1f47df",
   "metadata": {},
   "source": [
    "## Data analysis "
   ]
  },
  {
   "cell_type": "code",
   "execution_count": null,
   "id": "ea316c68",
   "metadata": {},
   "outputs": [],
   "source": [
    "plot_factor_freq(semantic_df, 30)"
   ]
  },
  {
   "cell_type": "code",
   "execution_count": null,
   "id": "65ceb45e",
   "metadata": {},
   "outputs": [],
   "source": [
    "generate_fixed_factor_pool(semantic_df, [\"CTCF\", \"POLR2A\", \"MYC\"], 5)"
   ]
  },
  {
   "cell_type": "code",
   "execution_count": null,
   "id": "479b207a",
   "metadata": {},
   "outputs": [],
   "source": [
    "get_semantic_annotation_list(semantic_df, [\"H3K4me3\", \"H3K27me3\", \"POLR2A\", \"CTCF\", \"MYC\"])"
   ]
  },
  {
   "cell_type": "markdown",
   "id": "d20b849f",
   "metadata": {},
   "source": [
    "## Select features and combine samples"
   ]
  },
  {
   "cell_type": "code",
   "execution_count": null,
   "id": "414ee2f0",
   "metadata": {},
   "outputs": [],
   "source": [
    "extract_data(dataset, [\"H3K4me3\", \"H3K27me3\", \"POLR2A\", \"CTCF\", \"MYC\"])"
   ]
  },
  {
   "cell_type": "markdown",
   "id": "3d8c8832",
   "metadata": {},
   "source": [
    "## [Optional] Add custom tracks"
   ]
  },
  {
   "cell_type": "code",
   "execution_count": null,
   "id": "3e4c834d",
   "metadata": {},
   "outputs": [],
   "source": [
    "add_custom_tracks(\"CpG_Islands\", \"./test/cpgIslandExt_test.txt\") #ok"
   ]
  },
  {
   "cell_type": "markdown",
   "id": "02d37d8d",
   "metadata": {},
   "source": [
    "## Identify functional states"
   ]
  },
  {
   "cell_type": "code",
   "execution_count": null,
   "id": "7a7b30dc",
   "metadata": {},
   "outputs": [],
   "source": [
    "functional_states_df = identify_functional_states(chromHMM_path =\"./ChromHMM/\", number_of_states = 15, n_core = 30)"
   ]
  },
  {
   "cell_type": "code",
   "execution_count": null,
   "id": "e56df8fa",
   "metadata": {},
   "outputs": [],
   "source": [
    "#functional_states_df = load_custom_segments(input_segment_dir =\"./test/test_segmentated/\", num_states=15)"
   ]
  },
  {
   "cell_type": "code",
   "execution_count": null,
   "id": "8eeab7c4",
   "metadata": {},
   "outputs": [],
   "source": [
    "palette=['#c9f9ff','#e6beff', '#e6194b', '#3cb44b', '#ffe119', '#4363d8', '#f58231', '#911eb4', '#bcf60c', '#f032e6', '#fffac8', '#fabebe', '#9a6324', '#46f0f0', '#008080', '#ffd8b1', '#000075', '#fffac8', '#808000', '#800000']"
   ]
  },
  {
   "cell_type": "code",
   "execution_count": null,
   "id": "2b9badf8",
   "metadata": {},
   "outputs": [],
   "source": [
    "show_emission_graph(custom_palette=palette)"
   ]
  },
  {
   "cell_type": "markdown",
   "id": "e87491e1",
   "metadata": {},
   "source": [
    "## Show Distance Metric"
   ]
  },
  {
   "cell_type": "code",
   "execution_count": null,
   "id": "42d908e4",
   "metadata": {},
   "outputs": [],
   "source": [
    "show_distance_matrix()"
   ]
  },
  {
   "cell_type": "markdown",
   "id": "de1c205d",
   "metadata": {},
   "source": [
    "## Single-gene analysis "
   ]
  },
  {
   "cell_type": "code",
   "execution_count": null,
   "id": "886fceea",
   "metadata": {
    "scrolled": true
   },
   "outputs": [],
   "source": [
    "single_gene_analysis(functional_states_df, \"./test/gene_list_test/gene_list_test.txt\", functional_states_distance)"
   ]
  },
  {
   "cell_type": "markdown",
   "id": "db45dca3",
   "metadata": {},
   "source": [
    "## PCA - analysis"
   ]
  },
  {
   "cell_type": "code",
   "execution_count": null,
   "id": "509ec2f8",
   "metadata": {},
   "outputs": [],
   "source": [
    "pca_analysis(functional_states_df, 10)"
   ]
  },
  {
   "cell_type": "markdown",
   "id": "b4c04477",
   "metadata": {},
   "source": [
    "# Genome-wide analysis "
   ]
  },
  {
   "cell_type": "code",
   "execution_count": null,
   "id": "54eebedc",
   "metadata": {},
   "outputs": [],
   "source": [
    "reducted_df = genome_reduction(functional_states_df, treshold=90)"
   ]
  },
  {
   "cell_type": "code",
   "execution_count": null,
   "id": "55ee0231",
   "metadata": {},
   "outputs": [],
   "source": [
    "show_emission_graph_with_coverage(reducted_df, custom_palette=palette)"
   ]
  },
  {
   "cell_type": "code",
   "execution_count": null,
   "id": "2abdd080",
   "metadata": {
    "scrolled": false
   },
   "outputs": [],
   "source": [
    "clustered_heatmap = data_driven_heatmap(reducted_df, functional_states_distance, min_clust_size=10, min_sampl=2) "
   ]
  },
  {
   "cell_type": "code",
   "execution_count": null,
   "id": "485ecec6",
   "metadata": {},
   "outputs": [],
   "source": [
    "gene_ontology_enrichment_analysis(clustered_heatmap, goea_tool = \"great\", distance_metric=functional_states_distance)"
   ]
  },
  {
   "cell_type": "code",
   "execution_count": null,
   "id": "2092339e",
   "metadata": {},
   "outputs": [],
   "source": [
    "show_cluster(22, \"mf\")"
   ]
  }
 ],
 "metadata": {
  "kernelspec": {
   "display_name": "Python 3",
   "language": "python",
   "name": "python3"
  },
  "language_info": {
   "codemirror_mode": {
    "name": "ipython",
    "version": 3
   },
   "file_extension": ".py",
   "mimetype": "text/x-python",
   "name": "python",
   "nbconvert_exporter": "python",
   "pygments_lexer": "ipython3",
   "version": "3.9.5"
  }
 },
 "nbformat": 4,
 "nbformat_minor": 5
}
